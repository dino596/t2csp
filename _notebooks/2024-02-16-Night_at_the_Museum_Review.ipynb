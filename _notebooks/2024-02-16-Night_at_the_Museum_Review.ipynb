{
 "cells": [
  {
   "cell_type": "markdown",
   "metadata": {},
   "source": [
    "---\n",
    "toc: true\n",
    "comments: false\n",
    "layout: post\n",
    "title: Night At The Museum Review Ticket\n",
    "type: plans\n",
    "courses: { compsci: {week: 4} }\n",
    "---"
   ]
  },
  {
   "cell_type": "markdown",
   "metadata": {},
   "source": [
    "# Night At The Museum Review Ticket\n",
    "\n",
    "<br>\n",
    "\n",
    "## Reflection\n",
    "\n",
    "- Our search and connection to backend was perfect\n",
    "- Our list for the most part was working\n",
    "- Our login was working\n",
    "\n",
    "- List is not connected to search properly\n",
    "- No signup feature yet\n",
    "\n",
    "Other than our project, I saw someone with a very creative game, created by Matthew W and Jason G's group. It featured calculations in the backend and randomly generated numbers to increase difficulty as well as provide a different game every time.\n",
    "\n",
    "Outside of CSP, I went to the art galleries to view the art that my friend, who was in art, drew.\n",
    "\n",
    "[![N@TM](https://eunseolim123.github.io/student-2.0/images/N@TM1.JPG)]()"
   ]
  }
 ],
 "metadata": {
  "language_info": {
   "name": "python"
  }
 },
 "nbformat": 4,
 "nbformat_minor": 2
}
