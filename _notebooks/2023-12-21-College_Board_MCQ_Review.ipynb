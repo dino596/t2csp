{
 "cells": [
  {
   "cell_type": "markdown",
   "metadata": {},
   "source": [
    "---\n",
    "toc: true\n",
    "comments: false\n",
    "layout: post\n",
    "title: College Board MCQ Review\n",
    "type: plans\n",
    "courses: { compsci: {week: 4} }\n",
    "---"
   ]
  },
  {
   "cell_type": "markdown",
   "metadata": {},
   "source": [
    "# Corrections\n",
    "\n",
    "Question 35:\n",
    "The correct answer was B, but I chose C.\n",
    "This is because the generalization of MaxTwo and MaxThree is Max, and it would take the input of a list and return the Max of a numList.\n",
    "\n",
    "Question 36:\n",
    "The correct answer was A, but I chose D.\n",
    "I chose D because removing nonessential variables would most likely compromise the accuracy of the simulation, but according to College Board, the accuracy would not differ too much. It would instead decrease the runtime of the simulation since less variables are being considered, but the time required would still likely depend on the complexity of the model.\n",
    "\n",
    "Question 60:\n",
    "The correct answer was D, but I chose B.\n",
    "I chose B because this question was based on counting the indexes after removing the duplicates of an array. I miscounted D and B, since I miscounted B and 3 and D as 4."
   ]
  },
  {
   "cell_type": "markdown",
   "metadata": {},
   "source": []
  }
 ],
 "metadata": {
  "language_info": {
   "name": "python"
  }
 },
 "nbformat": 4,
 "nbformat_minor": 2
}
