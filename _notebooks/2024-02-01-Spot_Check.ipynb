{
 "cells": [
  {
   "cell_type": "markdown",
   "metadata": {},
   "source": [
    "Name: Arthur Liu<br>\n",
    "Period: 4<br>\n",
    "All Scores: <br>\n",
    "Sum of Best Two Scores: <br>\n",
    "[Link to Issue]( )"
   ]
  },
  {
   "cell_type": "markdown",
   "metadata": {},
   "source": [
    "database, with database schema change\n",
    "\n",
    "- [ ] Show db.Column changes you have made to model/python file in Visual Studio Code\n",
    "- [ ] Show initialization data code in VSCode\n",
    "- [ ] Demo delete database and run ./migrate.sh\n",
    "- [ ] Demo corresponding schema change in SQLite3\n",
    "- [ ] Demo initialization data captured in Column in SQLite3 \n",
    "\n",
    "- postman with /authentication screen\n",
    "- [ ] Show /authenticate endpoint code in Visual Studio Code\n",
    "- [ ] Show and Demo /authenticate in Postman…\n",
    "- [ ] Demo calling to endpoint\n",
    "- [ ] Show JSON data passed in call\n",
    "- [ ] Show Response window\n",
    "- [ ] Show Cookie acquired window\n",
    "- [ ] Cut/Copy/Paste Cookie into jwt.io and show decrypting payload\n",
    "\n",
    "- postman with /api screen to access data under authentication\n",
    "- [ ] Show /api CRUD code in Visual Studio Code, expecting READ/GET code\n",
    "- [ ] Show and Demo /api READ/GET endpoint in Postman…\n",
    "- [ ] Demo calling to endpoint that requires Cookie\n",
    "- [ ] Show Response/Data\n",
    "- [ ] Demo Deleting cookie\n",
    "- [ ] Demo calling endpoint again\n",
    "- [ ] Show Response/Failure"
   ]
  },
  {
   "cell_type": "markdown",
   "metadata": {},
   "source": []
  }
 ],
 "metadata": {
  "language_info": {
   "name": "python"
  }
 },
 "nbformat": 4,
 "nbformat_minor": 2
}
